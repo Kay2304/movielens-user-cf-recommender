{
 "cells": [
  {
   "cell_type": "code",
   "execution_count": 11,
   "id": "b22b224c",
   "metadata": {},
   "outputs": [
    {
     "name": "stdout",
     "output_type": "stream",
     "text": [
      "Original ratings shape: (32000204, 4)\n",
      "Filtered ratings shape: (9763311, 4)\n",
      "User-Item matrix shape: (10000, 10000)\n"
     ]
    }
   ],
   "source": [
    "import pandas as pd\n",
    "\n",
    "# Step 1: Load the data (adjust path if needed)\n",
    "data_path = 'C:/Users/kelet/Downloads/ml-32m/'\n",
    "\n",
    "ratings = pd.read_csv(data_path + 'ratings.csv')\n",
    "\n",
    "print(\"Original ratings shape:\", ratings.shape)\n",
    "\n",
    "# Step 2: Select top 10,000 users and movies by number of ratings\n",
    "top_users = ratings['userId'].value_counts().nlargest(10000).index\n",
    "top_movies = ratings['movieId'].value_counts().nlargest(10000).index\n",
    "\n",
    "# Step 3: Filter the ratings DataFrame to only include these users and movies\n",
    "ratings_subset = ratings[(ratings['userId'].isin(top_users)) & (ratings['movieId'].isin(top_movies))]\n",
    "\n",
    "print(\"Filtered ratings shape:\", ratings_subset.shape)\n",
    "\n",
    "# Step 4: Create the user-item matrix (pivot table), filling missing ratings with 0\n",
    "user_movie_matrix = ratings_subset.pivot_table(index='userId', columns='movieId', values='rating').fillna(0)\n",
    "\n",
    "print(\"User-Item matrix shape:\", user_movie_matrix.shape)\n"
   ]
  },
  {
   "cell_type": "code",
   "execution_count": 12,
   "id": "ce799ad4",
   "metadata": {},
   "outputs": [
    {
     "name": "stdout",
     "output_type": "stream",
     "text": [
      "Index([10, 28, 70, 109, 187, 188, 228, 239, 240, 245], dtype='int64', name='userId')\n"
     ]
    }
   ],
   "source": [
    "print(user_movie_matrix.index[:10])  # print first 10 user IDs in matrix\n"
   ]
  },
  {
   "cell_type": "code",
   "execution_count": 13,
   "id": "9956e08c",
   "metadata": {},
   "outputs": [
    {
     "name": "stdout",
     "output_type": "stream",
     "text": [
      "Top 5 similar users to user 10 (by matrix index): [9580, 9599, 6330, 7363, 8007]\n"
     ]
    }
   ],
   "source": [
    "valid_user_id = 10  # or 28, 70, etc.\n",
    "\n",
    "top_similar_users = get_top_similar_users(valid_user_id, user_similarity, user_index_map, top_n=5)\n",
    "print(f\"Top 5 similar users to user {valid_user_id} (by matrix index):\", top_similar_users)\n"
   ]
  },
  {
   "cell_type": "code",
   "execution_count": 14,
   "id": "5ebd5fd8",
   "metadata": {},
   "outputs": [
    {
     "name": "stdout",
     "output_type": "stream",
     "text": [
      "Recommended movie IDs: [2858, 1265, 1704, 608, 1136, 293, 1732, 4886, 1213, 3147]\n"
     ]
    }
   ],
   "source": [
    "def recommend_movies(user_id, user_movie_matrix, user_similarity, user_index_map, top_n=10):\n",
    "    user_idx = user_index_map[user_id]\n",
    "    \n",
    "    # Get similarity scores for the target user with all others\n",
    "    sim_scores = user_similarity[user_idx]\n",
    "    \n",
    "    # Get the target user's ratings\n",
    "    user_ratings = user_movie_matrix.iloc[user_idx]\n",
    "    \n",
    "    # Find movies user hasn't rated (rating = 0)\n",
    "    unrated_movies = user_ratings[user_ratings == 0].index\n",
    "    \n",
    "    # Calculate weighted ratings from similar users\n",
    "    weighted_scores = {}\n",
    "    for movie in unrated_movies:\n",
    "        # Get ratings of other users for this movie\n",
    "        movie_ratings = user_movie_matrix[movie]\n",
    "        \n",
    "        # Compute weighted average of ratings using similarity scores\n",
    "        weighted_sum = np.dot(sim_scores, movie_ratings)\n",
    "        sim_sum = np.sum(sim_scores)\n",
    "        \n",
    "        if sim_sum > 0:\n",
    "            weighted_scores[movie] = weighted_sum / sim_sum\n",
    "        else:\n",
    "            weighted_scores[movie] = 0\n",
    "    \n",
    "    # Sort movies by weighted score\n",
    "    sorted_movies = sorted(weighted_scores.items(), key=lambda x: x[1], reverse=True)\n",
    "    \n",
    "    # Return top n movie IDs as recommendations\n",
    "    return [movie for movie, score in sorted_movies[:top_n]]\n",
    "\n",
    "# Example usage\n",
    "recommended_movies = recommend_movies(valid_user_id, user_movie_matrix, user_similarity, user_index_map, top_n=10)\n",
    "print(\"Recommended movie IDs:\", recommended_movies)\n"
   ]
  },
  {
   "cell_type": "code",
   "execution_count": 15,
   "id": "f116f2f2",
   "metadata": {},
   "outputs": [
    {
     "name": "stdout",
     "output_type": "stream",
     "text": [
      "Recommended movies for user 10\n",
      "Léon: The Professional (a.k.a. The Professional) (Léon) (1994)\n",
      "Fargo (1996)\n",
      "Monty Python and the Holy Grail (1975)\n",
      "Goodfellas (1990)\n",
      "Groundhog Day (1993)\n",
      "Good Will Hunting (1997)\n",
      "Big Lebowski, The (1998)\n",
      "American Beauty (1999)\n",
      "Green Mile, The (1999)\n",
      "Monsters, Inc. (2001)\n"
     ]
    }
   ],
   "source": [
    "import pandas as pd\n",
    "\n",
    "# Load movies data (adjust path as needed)\n",
    "movies = pd.read_csv('C:/Users/kelet/Downloads/ml-32m/movies.csv')\n",
    "\n",
    "# Your recommended movie IDs (example)\n",
    "recommended_movies = [2858, 1265, 1704, 608, 1136, 293, 1732, 4886, 1213, 3147]\n",
    "\n",
    "# Get movie titles\n",
    "recommended_titles = movies[movies['movieId'].isin(recommended_movies)]['title'].values\n",
    "\n",
    "print(\"Recommended movies for user\", valid_user_id)\n",
    "for title in recommended_titles:\n",
    "    print(title)\n"
   ]
  },
  {
   "cell_type": "code",
   "execution_count": null,
   "id": "a8599cbc",
   "metadata": {},
   "outputs": [],
   "source": []
  }
 ],
 "metadata": {
  "kernelspec": {
   "display_name": "Python 3",
   "language": "python",
   "name": "python3"
  },
  "language_info": {
   "codemirror_mode": {
    "name": "ipython",
    "version": 3
   },
   "file_extension": ".py",
   "mimetype": "text/x-python",
   "name": "python",
   "nbconvert_exporter": "python",
   "pygments_lexer": "ipython3",
   "version": "3.13.5"
  }
 },
 "nbformat": 4,
 "nbformat_minor": 5
}
